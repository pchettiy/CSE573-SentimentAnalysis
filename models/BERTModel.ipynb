{
  "nbformat": 4,
  "nbformat_minor": 0,
  "metadata": {
    "colab": {
      "provenance": []
    },
    "kernelspec": {
      "name": "python3",
      "display_name": "Python 3"
    },
    "language_info": {
      "name": "python"
    },
    "accelerator": "GPU",
    "gpuClass": "standard",
    "widgets": {
      "application/vnd.jupyter.widget-state+json": {
        "eb321e8db2024f10a5d7f1441d906278": {
          "model_module": "@jupyter-widgets/controls",
          "model_name": "HBoxModel",
          "model_module_version": "1.5.0",
          "state": {
            "_dom_classes": [],
            "_model_module": "@jupyter-widgets/controls",
            "_model_module_version": "1.5.0",
            "_model_name": "HBoxModel",
            "_view_count": null,
            "_view_module": "@jupyter-widgets/controls",
            "_view_module_version": "1.5.0",
            "_view_name": "HBoxView",
            "box_style": "",
            "children": [
              "IPY_MODEL_7925d077a7904f63875794a5ec564aa7",
              "IPY_MODEL_f68e26baa9e743ed8cd4481fecfb4011",
              "IPY_MODEL_0c35dc7e3d584bc78f326d7b7ec93858"
            ],
            "layout": "IPY_MODEL_60afeb2141814b949fe8e24304c31af3"
          }
        },
        "7925d077a7904f63875794a5ec564aa7": {
          "model_module": "@jupyter-widgets/controls",
          "model_name": "HTMLModel",
          "model_module_version": "1.5.0",
          "state": {
            "_dom_classes": [],
            "_model_module": "@jupyter-widgets/controls",
            "_model_module_version": "1.5.0",
            "_model_name": "HTMLModel",
            "_view_count": null,
            "_view_module": "@jupyter-widgets/controls",
            "_view_module_version": "1.5.0",
            "_view_name": "HTMLView",
            "description": "",
            "description_tooltip": null,
            "layout": "IPY_MODEL_b80c456142064a4caf23168cb647cea2",
            "placeholder": "​",
            "style": "IPY_MODEL_a76873a3d40d43d2abd1d3bf2dc9c333",
            "value": "100%"
          }
        },
        "f68e26baa9e743ed8cd4481fecfb4011": {
          "model_module": "@jupyter-widgets/controls",
          "model_name": "FloatProgressModel",
          "model_module_version": "1.5.0",
          "state": {
            "_dom_classes": [],
            "_model_module": "@jupyter-widgets/controls",
            "_model_module_version": "1.5.0",
            "_model_name": "FloatProgressModel",
            "_view_count": null,
            "_view_module": "@jupyter-widgets/controls",
            "_view_module_version": "1.5.0",
            "_view_name": "ProgressView",
            "bar_style": "success",
            "description": "",
            "description_tooltip": null,
            "layout": "IPY_MODEL_a2b5d7a5a3fe45ceac0d3a50dd62a8a2",
            "max": 9684,
            "min": 0,
            "orientation": "horizontal",
            "style": "IPY_MODEL_eb52988bf5ca4c13976a81e478538b51",
            "value": 9684
          }
        },
        "0c35dc7e3d584bc78f326d7b7ec93858": {
          "model_module": "@jupyter-widgets/controls",
          "model_name": "HTMLModel",
          "model_module_version": "1.5.0",
          "state": {
            "_dom_classes": [],
            "_model_module": "@jupyter-widgets/controls",
            "_model_module_version": "1.5.0",
            "_model_name": "HTMLModel",
            "_view_count": null,
            "_view_module": "@jupyter-widgets/controls",
            "_view_module_version": "1.5.0",
            "_view_name": "HTMLView",
            "description": "",
            "description_tooltip": null,
            "layout": "IPY_MODEL_944020f7556747a487122784e2838e38",
            "placeholder": "​",
            "style": "IPY_MODEL_ba901723c04e4f6996241c77eb1b057b",
            "value": " 9684/9684 [00:00&lt;00:00, 141188.39it/s]"
          }
        },
        "60afeb2141814b949fe8e24304c31af3": {
          "model_module": "@jupyter-widgets/base",
          "model_name": "LayoutModel",
          "model_module_version": "1.2.0",
          "state": {
            "_model_module": "@jupyter-widgets/base",
            "_model_module_version": "1.2.0",
            "_model_name": "LayoutModel",
            "_view_count": null,
            "_view_module": "@jupyter-widgets/base",
            "_view_module_version": "1.2.0",
            "_view_name": "LayoutView",
            "align_content": null,
            "align_items": null,
            "align_self": null,
            "border": null,
            "bottom": null,
            "display": null,
            "flex": null,
            "flex_flow": null,
            "grid_area": null,
            "grid_auto_columns": null,
            "grid_auto_flow": null,
            "grid_auto_rows": null,
            "grid_column": null,
            "grid_gap": null,
            "grid_row": null,
            "grid_template_areas": null,
            "grid_template_columns": null,
            "grid_template_rows": null,
            "height": null,
            "justify_content": null,
            "justify_items": null,
            "left": null,
            "margin": null,
            "max_height": null,
            "max_width": null,
            "min_height": null,
            "min_width": null,
            "object_fit": null,
            "object_position": null,
            "order": null,
            "overflow": null,
            "overflow_x": null,
            "overflow_y": null,
            "padding": null,
            "right": null,
            "top": null,
            "visibility": null,
            "width": null
          }
        },
        "b80c456142064a4caf23168cb647cea2": {
          "model_module": "@jupyter-widgets/base",
          "model_name": "LayoutModel",
          "model_module_version": "1.2.0",
          "state": {
            "_model_module": "@jupyter-widgets/base",
            "_model_module_version": "1.2.0",
            "_model_name": "LayoutModel",
            "_view_count": null,
            "_view_module": "@jupyter-widgets/base",
            "_view_module_version": "1.2.0",
            "_view_name": "LayoutView",
            "align_content": null,
            "align_items": null,
            "align_self": null,
            "border": null,
            "bottom": null,
            "display": null,
            "flex": null,
            "flex_flow": null,
            "grid_area": null,
            "grid_auto_columns": null,
            "grid_auto_flow": null,
            "grid_auto_rows": null,
            "grid_column": null,
            "grid_gap": null,
            "grid_row": null,
            "grid_template_areas": null,
            "grid_template_columns": null,
            "grid_template_rows": null,
            "height": null,
            "justify_content": null,
            "justify_items": null,
            "left": null,
            "margin": null,
            "max_height": null,
            "max_width": null,
            "min_height": null,
            "min_width": null,
            "object_fit": null,
            "object_position": null,
            "order": null,
            "overflow": null,
            "overflow_x": null,
            "overflow_y": null,
            "padding": null,
            "right": null,
            "top": null,
            "visibility": null,
            "width": null
          }
        },
        "a76873a3d40d43d2abd1d3bf2dc9c333": {
          "model_module": "@jupyter-widgets/controls",
          "model_name": "DescriptionStyleModel",
          "model_module_version": "1.5.0",
          "state": {
            "_model_module": "@jupyter-widgets/controls",
            "_model_module_version": "1.5.0",
            "_model_name": "DescriptionStyleModel",
            "_view_count": null,
            "_view_module": "@jupyter-widgets/base",
            "_view_module_version": "1.2.0",
            "_view_name": "StyleView",
            "description_width": ""
          }
        },
        "a2b5d7a5a3fe45ceac0d3a50dd62a8a2": {
          "model_module": "@jupyter-widgets/base",
          "model_name": "LayoutModel",
          "model_module_version": "1.2.0",
          "state": {
            "_model_module": "@jupyter-widgets/base",
            "_model_module_version": "1.2.0",
            "_model_name": "LayoutModel",
            "_view_count": null,
            "_view_module": "@jupyter-widgets/base",
            "_view_module_version": "1.2.0",
            "_view_name": "LayoutView",
            "align_content": null,
            "align_items": null,
            "align_self": null,
            "border": null,
            "bottom": null,
            "display": null,
            "flex": null,
            "flex_flow": null,
            "grid_area": null,
            "grid_auto_columns": null,
            "grid_auto_flow": null,
            "grid_auto_rows": null,
            "grid_column": null,
            "grid_gap": null,
            "grid_row": null,
            "grid_template_areas": null,
            "grid_template_columns": null,
            "grid_template_rows": null,
            "height": null,
            "justify_content": null,
            "justify_items": null,
            "left": null,
            "margin": null,
            "max_height": null,
            "max_width": null,
            "min_height": null,
            "min_width": null,
            "object_fit": null,
            "object_position": null,
            "order": null,
            "overflow": null,
            "overflow_x": null,
            "overflow_y": null,
            "padding": null,
            "right": null,
            "top": null,
            "visibility": null,
            "width": null
          }
        },
        "eb52988bf5ca4c13976a81e478538b51": {
          "model_module": "@jupyter-widgets/controls",
          "model_name": "ProgressStyleModel",
          "model_module_version": "1.5.0",
          "state": {
            "_model_module": "@jupyter-widgets/controls",
            "_model_module_version": "1.5.0",
            "_model_name": "ProgressStyleModel",
            "_view_count": null,
            "_view_module": "@jupyter-widgets/base",
            "_view_module_version": "1.2.0",
            "_view_name": "StyleView",
            "bar_color": null,
            "description_width": ""
          }
        },
        "944020f7556747a487122784e2838e38": {
          "model_module": "@jupyter-widgets/base",
          "model_name": "LayoutModel",
          "model_module_version": "1.2.0",
          "state": {
            "_model_module": "@jupyter-widgets/base",
            "_model_module_version": "1.2.0",
            "_model_name": "LayoutModel",
            "_view_count": null,
            "_view_module": "@jupyter-widgets/base",
            "_view_module_version": "1.2.0",
            "_view_name": "LayoutView",
            "align_content": null,
            "align_items": null,
            "align_self": null,
            "border": null,
            "bottom": null,
            "display": null,
            "flex": null,
            "flex_flow": null,
            "grid_area": null,
            "grid_auto_columns": null,
            "grid_auto_flow": null,
            "grid_auto_rows": null,
            "grid_column": null,
            "grid_gap": null,
            "grid_row": null,
            "grid_template_areas": null,
            "grid_template_columns": null,
            "grid_template_rows": null,
            "height": null,
            "justify_content": null,
            "justify_items": null,
            "left": null,
            "margin": null,
            "max_height": null,
            "max_width": null,
            "min_height": null,
            "min_width": null,
            "object_fit": null,
            "object_position": null,
            "order": null,
            "overflow": null,
            "overflow_x": null,
            "overflow_y": null,
            "padding": null,
            "right": null,
            "top": null,
            "visibility": null,
            "width": null
          }
        },
        "ba901723c04e4f6996241c77eb1b057b": {
          "model_module": "@jupyter-widgets/controls",
          "model_name": "DescriptionStyleModel",
          "model_module_version": "1.5.0",
          "state": {
            "_model_module": "@jupyter-widgets/controls",
            "_model_module_version": "1.5.0",
            "_model_name": "DescriptionStyleModel",
            "_view_count": null,
            "_view_module": "@jupyter-widgets/base",
            "_view_module_version": "1.2.0",
            "_view_name": "StyleView",
            "description_width": ""
          }
        }
      }
    }
  },
  "cells": [
    {
      "cell_type": "code",
      "execution_count": null,
      "metadata": {
        "colab": {
          "base_uri": "https://localhost:8080/"
        },
        "id": "8mHY8YAaZbfw",
        "outputId": "b783844e-b289-42b2-ab46-5aa917a5d256"
      },
      "outputs": [
        {
          "output_type": "stream",
          "name": "stdout",
          "text": [
            "Mounted at /content/drive\n"
          ]
        }
      ],
      "source": [
        "from google.colab import drive\n",
        "drive.mount('/content/drive', force_remount=True)"
      ]
    },
    {
      "cell_type": "code",
      "source": [
        "import os\n",
        "dataSetDir = '/content/drive/My Drive/SWM/SWM/Subtask_A/'"
      ],
      "metadata": {
        "id": "nhIaGGyuZl_9"
      },
      "execution_count": null,
      "outputs": []
    },
    {
      "cell_type": "code",
      "source": [
        "!pip install transformers\n",
        "from tqdm import notebook\n",
        "import torch\n",
        "from torch.utils.data import TensorDataset, DataLoader, RandomSampler, SequentialSampler\n",
        "import torch.nn.functional as F\n",
        "from transformers import RobertaTokenizer, RobertaConfig,AdamW, RobertaForSequenceClassification,get_linear_schedule_with_warmup\n",
        "\n",
        "\n",
        "import pandas as pd\n",
        "import numpy as np\n",
        "import seaborn as sns\n",
        "import matplotlib.pyplot as plt\n",
        "\n",
        "from sklearn.model_selection import train_test_split\n",
        "from sklearn.metrics import confusion_matrix,classification_report, accuracy_score, f1_score, precision_score, recall_score\n",
        "# Import and evaluate each test batch using Matthew's correlation coefficient\n",
        "from sklearn.metrics import accuracy_score,matthews_corrcoef\n",
        "\n",
        "from tqdm import tqdm, trange,tnrange,tqdm_notebook\n",
        "import random\n",
        "import os\n",
        "import io"
      ],
      "metadata": {
        "colab": {
          "base_uri": "https://localhost:8080/"
        },
        "id": "nqVVGxzHZl9X",
        "outputId": "d7764ecd-0ace-44be-a50e-a3e74ded3dab"
      },
      "execution_count": null,
      "outputs": [
        {
          "output_type": "stream",
          "name": "stdout",
          "text": [
            "Looking in indexes: https://pypi.org/simple, https://us-python.pkg.dev/colab-wheels/public/simple/\n",
            "Requirement already satisfied: transformers in /usr/local/lib/python3.7/dist-packages (4.24.0)\n",
            "Requirement already satisfied: filelock in /usr/local/lib/python3.7/dist-packages (from transformers) (3.8.0)\n",
            "Requirement already satisfied: huggingface-hub<1.0,>=0.10.0 in /usr/local/lib/python3.7/dist-packages (from transformers) (0.11.0)\n",
            "Requirement already satisfied: requests in /usr/local/lib/python3.7/dist-packages (from transformers) (2.23.0)\n",
            "Requirement already satisfied: numpy>=1.17 in /usr/local/lib/python3.7/dist-packages (from transformers) (1.21.6)\n",
            "Requirement already satisfied: tokenizers!=0.11.3,<0.14,>=0.11.1 in /usr/local/lib/python3.7/dist-packages (from transformers) (0.13.2)\n",
            "Requirement already satisfied: packaging>=20.0 in /usr/local/lib/python3.7/dist-packages (from transformers) (21.3)\n",
            "Requirement already satisfied: regex!=2019.12.17 in /usr/local/lib/python3.7/dist-packages (from transformers) (2022.6.2)\n",
            "Requirement already satisfied: pyyaml>=5.1 in /usr/local/lib/python3.7/dist-packages (from transformers) (6.0)\n",
            "Requirement already satisfied: importlib-metadata in /usr/local/lib/python3.7/dist-packages (from transformers) (4.13.0)\n",
            "Requirement already satisfied: tqdm>=4.27 in /usr/local/lib/python3.7/dist-packages (from transformers) (4.64.1)\n",
            "Requirement already satisfied: typing-extensions>=3.7.4.3 in /usr/local/lib/python3.7/dist-packages (from huggingface-hub<1.0,>=0.10.0->transformers) (4.1.1)\n",
            "Requirement already satisfied: pyparsing!=3.0.5,>=2.0.2 in /usr/local/lib/python3.7/dist-packages (from packaging>=20.0->transformers) (3.0.9)\n",
            "Requirement already satisfied: zipp>=0.5 in /usr/local/lib/python3.7/dist-packages (from importlib-metadata->transformers) (3.10.0)\n",
            "Requirement already satisfied: certifi>=2017.4.17 in /usr/local/lib/python3.7/dist-packages (from requests->transformers) (2022.9.24)\n",
            "Requirement already satisfied: chardet<4,>=3.0.2 in /usr/local/lib/python3.7/dist-packages (from requests->transformers) (3.0.4)\n",
            "Requirement already satisfied: idna<3,>=2.5 in /usr/local/lib/python3.7/dist-packages (from requests->transformers) (2.10)\n",
            "Requirement already satisfied: urllib3!=1.25.0,!=1.25.1,<1.26,>=1.21.1 in /usr/local/lib/python3.7/dist-packages (from requests->transformers) (1.24.3)\n"
          ]
        }
      ]
    },
    {
      "cell_type": "code",
      "source": [
        "file2013 = open(dataSetDir + 'twitter-2013train-A.txt')\n",
        "file2014 = open(dataSetDir + 'twitter-2014sarcasm-A.txt')\n",
        "file2015 = open(dataSetDir + 'twitter-2015train-A.txt')\n",
        "file2016 = open(dataSetDir + 'twitter-2016train-A.txt')\n",
        "file2013dev = open(dataSetDir + 'twitter-2013dev-A.txt')\n",
        "file2016dev = open(dataSetDir + 'twitter-2016dev-A.txt')\n",
        "lines = file2013.readlines()\n",
        "lines += file2014.readlines()\n",
        "lines += file2015.readlines()\n",
        "lines += file2016.readlines()\n",
        "lines += file2013dev.readlines()\n",
        "lines += file2016dev.readlines()\n",
        "print('Number of lines in txt file: {}'.format(len(lines)))\n",
        "\n",
        "labelsTrain = []\n",
        "tweetsTrain = []\n",
        "\n",
        "for line in notebook.tqdm(lines):\n",
        "    line = line.split()\n",
        "    labelsTrain.append(line[1])\n",
        "    line = line[2:]\n",
        "    tweet = ' '.join(line)\n",
        "    tweetsTrain.append(tweet)\n",
        "dfTrain = pd.DataFrame(list(zip(tweetsTrain, labelsTrain)), columns =['tweets', 'labels']) \n",
        "dfTrain = dfTrain.sample(frac=1).reset_index(drop=True)\n",
        "dfTrain = dfTrain[:int(len(dfTrain)*0.9)]\n",
        "dfTest = dfTrain[int(len(dfTrain)*0.9):]"
      ],
      "metadata": {
        "colab": {
          "base_uri": "https://localhost:8080/",
          "height": 67,
          "referenced_widgets": [
            "eb321e8db2024f10a5d7f1441d906278",
            "7925d077a7904f63875794a5ec564aa7",
            "f68e26baa9e743ed8cd4481fecfb4011",
            "0c35dc7e3d584bc78f326d7b7ec93858",
            "60afeb2141814b949fe8e24304c31af3",
            "b80c456142064a4caf23168cb647cea2",
            "a76873a3d40d43d2abd1d3bf2dc9c333",
            "a2b5d7a5a3fe45ceac0d3a50dd62a8a2",
            "eb52988bf5ca4c13976a81e478538b51",
            "944020f7556747a487122784e2838e38",
            "ba901723c04e4f6996241c77eb1b057b"
          ]
        },
        "id": "PuEi8WJKZl6x",
        "outputId": "3fb2e688-8f6b-41e4-b745-39b28e043f06"
      },
      "execution_count": null,
      "outputs": [
        {
          "output_type": "stream",
          "name": "stdout",
          "text": [
            "Number of lines in txt file: 9684\n"
          ]
        },
        {
          "output_type": "display_data",
          "data": {
            "text/plain": [
              "  0%|          | 0/9684 [00:00<?, ?it/s]"
            ],
            "application/vnd.jupyter.widget-view+json": {
              "version_major": 2,
              "version_minor": 0,
              "model_id": "eb321e8db2024f10a5d7f1441d906278"
            }
          },
          "metadata": {}
        }
      ]
    },
    {
      "cell_type": "code",
      "source": [
        "from transformers import BertTokenizer\n",
        "from transformers import AutoTokenizer\n",
        "import tensorflow as tf"
      ],
      "metadata": {
        "id": "RJMnKM-5Zl4M"
      },
      "execution_count": null,
      "outputs": []
    },
    {
      "cell_type": "code",
      "source": [
        "tokenizer = BertTokenizer.from_pretrained('bert-base-uncased', do_lower_case=True)"
      ],
      "metadata": {
        "id": "LAyKQNtPZl1S"
      },
      "execution_count": null,
      "outputs": []
    },
    {
      "cell_type": "code",
      "source": [
        "# Preprocess text (username and link placeholders)\n",
        "def preprocess(text):\n",
        "    new_text = []\n",
        "\n",
        "    for t in text.split(\" \"):\n",
        "        t = '' if t.startswith('@') and len(t) > 1 else t\n",
        "        t = '' if t.startswith('http') else t\n",
        "        t = t.replace(\"#\",\"\")\n",
        "        new_text.append(t.lower())\n",
        "    return \" \".join(new_text).strip().replace(\"  \", \" \")"
      ],
      "metadata": {
        "id": "s_ZubHvpZlya"
      },
      "execution_count": null,
      "outputs": []
    },
    {
      "cell_type": "code",
      "source": [
        "from sklearn.preprocessing import LabelEncoder\n",
        "labelencoder = LabelEncoder()\n",
        "dfTrain['labels'] = labelencoder.fit_transform(dfTrain['labels'])\n",
        "dfTrain['tweets'] = dfTrain['tweets'].apply(preprocess)\n",
        "print(dfTrain.head())\n",
        "dfTest.head()"
      ],
      "metadata": {
        "colab": {
          "base_uri": "https://localhost:8080/",
          "height": 313
        },
        "id": "eT_pBTcxZlvy",
        "outputId": "a7487aac-14ef-43da-e185-c152c6b877f1"
      },
      "execution_count": null,
      "outputs": [
        {
          "output_type": "stream",
          "name": "stdout",
          "text": [
            "                                              tweets  labels\n",
            "0  1st george clooney 2nd joseph gordon (older an...       1\n",
            "1  the galaxy s iii will be available in select s...       1\n",
            "2  sunday\\u2019s golf roundup: nick watney flirts...       1\n",
            "3  looking forward to the judd apatow guest edite...       2\n",
            "4  girls night out-friday night-november 2nd. fai...       1\n"
          ]
        },
        {
          "output_type": "execute_result",
          "data": {
            "text/plain": [
              "                                                 tweets    labels\n",
              "7843  @Cerullean\\u002c thnx for the follow! The Chro...  positive\n",
              "7844  Hoping to look FIT tomorrow on the Jeremy Kyle...  positive\n",
              "7845  @Remi_Walker same. I wanna go football really ...   neutral\n",
              "7846  @courtneyolson12 Courtney!! Do you know if tha...   neutral\n",
              "7847  @OfficialKat You may have a few extra follower...  positive"
            ],
            "text/html": [
              "\n",
              "  <div id=\"df-1530fad0-f8c6-4bd0-9831-4e15d7fb03d8\">\n",
              "    <div class=\"colab-df-container\">\n",
              "      <div>\n",
              "<style scoped>\n",
              "    .dataframe tbody tr th:only-of-type {\n",
              "        vertical-align: middle;\n",
              "    }\n",
              "\n",
              "    .dataframe tbody tr th {\n",
              "        vertical-align: top;\n",
              "    }\n",
              "\n",
              "    .dataframe thead th {\n",
              "        text-align: right;\n",
              "    }\n",
              "</style>\n",
              "<table border=\"1\" class=\"dataframe\">\n",
              "  <thead>\n",
              "    <tr style=\"text-align: right;\">\n",
              "      <th></th>\n",
              "      <th>tweets</th>\n",
              "      <th>labels</th>\n",
              "    </tr>\n",
              "  </thead>\n",
              "  <tbody>\n",
              "    <tr>\n",
              "      <th>7843</th>\n",
              "      <td>@Cerullean\\u002c thnx for the follow! The Chro...</td>\n",
              "      <td>positive</td>\n",
              "    </tr>\n",
              "    <tr>\n",
              "      <th>7844</th>\n",
              "      <td>Hoping to look FIT tomorrow on the Jeremy Kyle...</td>\n",
              "      <td>positive</td>\n",
              "    </tr>\n",
              "    <tr>\n",
              "      <th>7845</th>\n",
              "      <td>@Remi_Walker same. I wanna go football really ...</td>\n",
              "      <td>neutral</td>\n",
              "    </tr>\n",
              "    <tr>\n",
              "      <th>7846</th>\n",
              "      <td>@courtneyolson12 Courtney!! Do you know if tha...</td>\n",
              "      <td>neutral</td>\n",
              "    </tr>\n",
              "    <tr>\n",
              "      <th>7847</th>\n",
              "      <td>@OfficialKat You may have a few extra follower...</td>\n",
              "      <td>positive</td>\n",
              "    </tr>\n",
              "  </tbody>\n",
              "</table>\n",
              "</div>\n",
              "      <button class=\"colab-df-convert\" onclick=\"convertToInteractive('df-1530fad0-f8c6-4bd0-9831-4e15d7fb03d8')\"\n",
              "              title=\"Convert this dataframe to an interactive table.\"\n",
              "              style=\"display:none;\">\n",
              "        \n",
              "  <svg xmlns=\"http://www.w3.org/2000/svg\" height=\"24px\"viewBox=\"0 0 24 24\"\n",
              "       width=\"24px\">\n",
              "    <path d=\"M0 0h24v24H0V0z\" fill=\"none\"/>\n",
              "    <path d=\"M18.56 5.44l.94 2.06.94-2.06 2.06-.94-2.06-.94-.94-2.06-.94 2.06-2.06.94zm-11 1L8.5 8.5l.94-2.06 2.06-.94-2.06-.94L8.5 2.5l-.94 2.06-2.06.94zm10 10l.94 2.06.94-2.06 2.06-.94-2.06-.94-.94-2.06-.94 2.06-2.06.94z\"/><path d=\"M17.41 7.96l-1.37-1.37c-.4-.4-.92-.59-1.43-.59-.52 0-1.04.2-1.43.59L10.3 9.45l-7.72 7.72c-.78.78-.78 2.05 0 2.83L4 21.41c.39.39.9.59 1.41.59.51 0 1.02-.2 1.41-.59l7.78-7.78 2.81-2.81c.8-.78.8-2.07 0-2.86zM5.41 20L4 18.59l7.72-7.72 1.47 1.35L5.41 20z\"/>\n",
              "  </svg>\n",
              "      </button>\n",
              "      \n",
              "  <style>\n",
              "    .colab-df-container {\n",
              "      display:flex;\n",
              "      flex-wrap:wrap;\n",
              "      gap: 12px;\n",
              "    }\n",
              "\n",
              "    .colab-df-convert {\n",
              "      background-color: #E8F0FE;\n",
              "      border: none;\n",
              "      border-radius: 50%;\n",
              "      cursor: pointer;\n",
              "      display: none;\n",
              "      fill: #1967D2;\n",
              "      height: 32px;\n",
              "      padding: 0 0 0 0;\n",
              "      width: 32px;\n",
              "    }\n",
              "\n",
              "    .colab-df-convert:hover {\n",
              "      background-color: #E2EBFA;\n",
              "      box-shadow: 0px 1px 2px rgba(60, 64, 67, 0.3), 0px 1px 3px 1px rgba(60, 64, 67, 0.15);\n",
              "      fill: #174EA6;\n",
              "    }\n",
              "\n",
              "    [theme=dark] .colab-df-convert {\n",
              "      background-color: #3B4455;\n",
              "      fill: #D2E3FC;\n",
              "    }\n",
              "\n",
              "    [theme=dark] .colab-df-convert:hover {\n",
              "      background-color: #434B5C;\n",
              "      box-shadow: 0px 1px 3px 1px rgba(0, 0, 0, 0.15);\n",
              "      filter: drop-shadow(0px 1px 2px rgba(0, 0, 0, 0.3));\n",
              "      fill: #FFFFFF;\n",
              "    }\n",
              "  </style>\n",
              "\n",
              "      <script>\n",
              "        const buttonEl =\n",
              "          document.querySelector('#df-1530fad0-f8c6-4bd0-9831-4e15d7fb03d8 button.colab-df-convert');\n",
              "        buttonEl.style.display =\n",
              "          google.colab.kernel.accessAllowed ? 'block' : 'none';\n",
              "\n",
              "        async function convertToInteractive(key) {\n",
              "          const element = document.querySelector('#df-1530fad0-f8c6-4bd0-9831-4e15d7fb03d8');\n",
              "          const dataTable =\n",
              "            await google.colab.kernel.invokeFunction('convertToInteractive',\n",
              "                                                     [key], {});\n",
              "          if (!dataTable) return;\n",
              "\n",
              "          const docLinkHtml = 'Like what you see? Visit the ' +\n",
              "            '<a target=\"_blank\" href=https://colab.research.google.com/notebooks/data_table.ipynb>data table notebook</a>'\n",
              "            + ' to learn more about interactive tables.';\n",
              "          element.innerHTML = '';\n",
              "          dataTable['output_type'] = 'display_data';\n",
              "          await google.colab.output.renderOutput(dataTable, element);\n",
              "          const docLink = document.createElement('div');\n",
              "          docLink.innerHTML = docLinkHtml;\n",
              "          element.appendChild(docLink);\n",
              "        }\n",
              "      </script>\n",
              "    </div>\n",
              "  </div>\n",
              "  "
            ]
          },
          "metadata": {},
          "execution_count": 91
        }
      ]
    },
    {
      "cell_type": "code",
      "source": [
        "# encoding the training data\n",
        "train_encoded_inputs = tokenizer(dfTrain['tweets'].tolist(),\n",
        "                                 add_special_tokens = True,\n",
        "                                 padding='max_length', \n",
        "                                 truncation=True, \n",
        "                                 max_length=30, \n",
        "                                 return_token_type_ids=False,\n",
        "                                 return_tensors = 'tf')"
      ],
      "metadata": {
        "id": "ODNy-mFuZls0"
      },
      "execution_count": null,
      "outputs": []
    },
    {
      "cell_type": "code",
      "source": [
        "train_encoded_inputs"
      ],
      "metadata": {
        "colab": {
          "base_uri": "https://localhost:8080/"
        },
        "id": "ZiXb1QrzpUXM",
        "outputId": "82bddfff-37be-4f1c-afb3-008a074752c9"
      },
      "execution_count": null,
      "outputs": [
        {
          "output_type": "execute_result",
          "data": {
            "text/plain": [
              "{'input_ids': <tf.Tensor: shape=(8715, 30), dtype=int32, numpy=\n",
              "array([[  101,  3083,  2577, ...,     0,     0,     0],\n",
              "       [  101,  1996,  9088, ...,  2006,  6928,   102],\n",
              "       [  101,  4465,  1032, ...,  2011,  3378,   102],\n",
              "       ...,\n",
              "       [  101,  2123,  1032, ...,  2833,  1032,   102],\n",
              "       [  101,  2065,  2115, ...,  2006, 19675,   102],\n",
              "       [  101,  1045,  2064, ...,  7490,  2055,   102]], dtype=int32)>, 'attention_mask': <tf.Tensor: shape=(8715, 30), dtype=int32, numpy=\n",
              "array([[1, 1, 1, ..., 0, 0, 0],\n",
              "       [1, 1, 1, ..., 1, 1, 1],\n",
              "       [1, 1, 1, ..., 1, 1, 1],\n",
              "       ...,\n",
              "       [1, 1, 1, ..., 1, 1, 1],\n",
              "       [1, 1, 1, ..., 1, 1, 1],\n",
              "       [1, 1, 1, ..., 1, 1, 1]], dtype=int32)>}"
            ]
          },
          "metadata": {},
          "execution_count": 93
        }
      ]
    },
    {
      "cell_type": "code",
      "source": [
        "from sklearn.preprocessing import OneHotEncoder\n",
        "encoder = OneHotEncoder(sparse=False)\n",
        "labelsArray = np.array(dfTrain['labels'].values.reshape(len(dfTrain['labels'].values), 1))\n",
        "\n",
        "dfTrainLabels = encoder.fit_transform(labelsArray)\n",
        "train_dataset = tf.data.Dataset.from_tensor_slices((train_encoded_inputs, dfTrainLabels))"
      ],
      "metadata": {
        "id": "13GgCswLpUUn"
      },
      "execution_count": null,
      "outputs": []
    },
    {
      "cell_type": "code",
      "source": [
        "# formatting the data as required by bert model\n",
        "def map_bert(inputs, labels):\n",
        "  inputs = {'input_ids': inputs['input_ids'],\n",
        "            'attention_mask': inputs['attention_mask']}\n",
        "  \n",
        "  return inputs, labels"
      ],
      "metadata": {
        "id": "sXE8tP7QpUSQ"
      },
      "execution_count": null,
      "outputs": []
    },
    {
      "cell_type": "code",
      "source": [
        "train_dataset = train_dataset.map(map_bert)"
      ],
      "metadata": {
        "id": "00-9qBAOpUQJ"
      },
      "execution_count": null,
      "outputs": []
    },
    {
      "cell_type": "code",
      "source": [
        "dataset = train_dataset.shuffle(100000).batch(64)"
      ],
      "metadata": {
        "id": "jSb7Vw-XpUN1"
      },
      "execution_count": null,
      "outputs": []
    },
    {
      "cell_type": "code",
      "source": [
        "DS_LEN = len(dataset)\n",
        "DS_LEN"
      ],
      "metadata": {
        "colab": {
          "base_uri": "https://localhost:8080/"
        },
        "id": "0VOnv_USpUKa",
        "outputId": "52657d6a-4b8f-457a-c46f-5cf6ccfc7037"
      },
      "execution_count": null,
      "outputs": [
        {
          "output_type": "execute_result",
          "data": {
            "text/plain": [
              "137"
            ]
          },
          "metadata": {},
          "execution_count": 98
        }
      ]
    },
    {
      "cell_type": "code",
      "source": [
        "# take 80% for train and 20% for validation\n",
        "SPLIT = 0.8\n",
        "train_ds = dataset.take(round(DS_LEN*SPLIT))\n",
        "val_ds = dataset.skip(round(DS_LEN*SPLIT))"
      ],
      "metadata": {
        "id": "akFRk9vPpUIm"
      },
      "execution_count": null,
      "outputs": []
    },
    {
      "cell_type": "code",
      "source": [
        "from transformers import TFAutoModel"
      ],
      "metadata": {
        "id": "xG0VS9kopUE8"
      },
      "execution_count": null,
      "outputs": []
    },
    {
      "cell_type": "code",
      "source": [
        "bert = TFAutoModel.from_pretrained('bert-base-uncased')"
      ],
      "metadata": {
        "colab": {
          "base_uri": "https://localhost:8080/"
        },
        "id": "HuIR2s1upUC4",
        "outputId": "fe4067c9-4efe-495c-b668-88bdc2f87345"
      },
      "execution_count": null,
      "outputs": [
        {
          "output_type": "stream",
          "name": "stderr",
          "text": [
            "Some layers from the model checkpoint at bert-base-uncased were not used when initializing TFBertModel: ['nsp___cls', 'mlm___cls']\n",
            "- This IS expected if you are initializing TFBertModel from the checkpoint of a model trained on another task or with another architecture (e.g. initializing a BertForSequenceClassification model from a BertForPreTraining model).\n",
            "- This IS NOT expected if you are initializing TFBertModel from the checkpoint of a model that you expect to be exactly identical (initializing a BertForSequenceClassification model from a BertForSequenceClassification model).\n",
            "All the layers of TFBertModel were initialized from the model checkpoint at bert-base-uncased.\n",
            "If your task is similar to the task the model of the checkpoint was trained on, you can already use TFBertModel for predictions without further training.\n"
          ]
        }
      ]
    },
    {
      "cell_type": "code",
      "source": [
        "# create model architecture\n",
        "#n_classes = len((train_df.target.unique()))\n",
        "\n",
        "# Input layers\n",
        "input_ids = tf.keras.layers.Input(shape=(30,), dtype=np.int32, name='input_ids' )\n",
        "mask = tf.keras.layers.Input(shape=(30,), dtype=np.int32, name = 'attention_mask')\n",
        "\n",
        "# bert embeddings\n",
        "embeddings = bert([input_ids, mask])[0]\n",
        "cls_token = embeddings[:,0,:]\n",
        "\n",
        "# keras layers\n",
        "#x = tf.keras.layers.GlobalMaxPool1D()(embeddings)\n",
        "x = tf.keras.layers.BatchNormalization()(cls_token)\n",
        "x = tf.keras.layers.Dense(128, activation='relu')(x)\n",
        "x = tf.keras.layers.Dropout(0.2)(x)\n",
        "x = tf.keras.layers.Dense(32, activation='relu')(x)\n",
        "\n",
        "# output layer\n",
        "y = tf.keras.layers.Dense(3, activation='softmax')(x)\n",
        "\n",
        "# create the model\n",
        "model = tf.keras.Model(inputs=[input_ids, mask], outputs=y)\n",
        "model.layers[2].trainable = False\n",
        "model.summary()"
      ],
      "metadata": {
        "colab": {
          "base_uri": "https://localhost:8080/"
        },
        "id": "OfzB6ZsZpUAj",
        "outputId": "c0af5d28-7691-49c6-9f43-6ca346fb6fb7"
      },
      "execution_count": null,
      "outputs": [
        {
          "output_type": "stream",
          "name": "stdout",
          "text": [
            "Model: \"model_2\"\n",
            "__________________________________________________________________________________________________\n",
            " Layer (type)                   Output Shape         Param #     Connected to                     \n",
            "==================================================================================================\n",
            " input_ids (InputLayer)         [(None, 30)]         0           []                               \n",
            "                                                                                                  \n",
            " attention_mask (InputLayer)    [(None, 30)]         0           []                               \n",
            "                                                                                                  \n",
            " tf_bert_model_2 (TFBertModel)  TFBaseModelOutputWi  109482240   ['input_ids[0][0]',              \n",
            "                                thPoolingAndCrossAt               'attention_mask[0][0]']         \n",
            "                                tentions(last_hidde                                               \n",
            "                                n_state=(None, 30,                                                \n",
            "                                768),                                                             \n",
            "                                 pooler_output=(Non                                               \n",
            "                                e, 768),                                                          \n",
            "                                 past_key_values=No                                               \n",
            "                                ne, hidden_states=N                                               \n",
            "                                one, attentions=Non                                               \n",
            "                                e, cross_attentions                                               \n",
            "                                =None)                                                            \n",
            "                                                                                                  \n",
            " tf.__operators__.getitem_2 (Sl  (None, 768)         0           ['tf_bert_model_2[0][0]']        \n",
            " icingOpLambda)                                                                                   \n",
            "                                                                                                  \n",
            " batch_normalization_2 (BatchNo  (None, 768)         3072        ['tf.__operators__.getitem_2[0][0\n",
            " rmalization)                                                    ]']                              \n",
            "                                                                                                  \n",
            " dense_6 (Dense)                (None, 128)          98432       ['batch_normalization_2[0][0]']  \n",
            "                                                                                                  \n",
            " dropout_113 (Dropout)          (None, 128)          0           ['dense_6[0][0]']                \n",
            "                                                                                                  \n",
            " dense_7 (Dense)                (None, 32)           4128        ['dropout_113[0][0]']            \n",
            "                                                                                                  \n",
            " dense_8 (Dense)                (None, 3)            99          ['dense_7[0][0]']                \n",
            "                                                                                                  \n",
            "==================================================================================================\n",
            "Total params: 109,587,971\n",
            "Trainable params: 104,195\n",
            "Non-trainable params: 109,483,776\n",
            "__________________________________________________________________________________________________\n"
          ]
        }
      ]
    },
    {
      "cell_type": "code",
      "source": [
        "import transformers\n",
        "optimizer = tf.keras.optimizers.Adam(learning_rate=1e-3)\n",
        "#optimizer = transformers.AdamWeightDecay(learning_rate=5e-4)\n",
        "loss = tf.keras.losses.CategoricalCrossentropy()\n",
        "metric = tf.keras.metrics.CategoricalAccuracy('accuracy')\n",
        "\n",
        "model.compile(optimizer=optimizer, loss=loss, metrics=[metric])"
      ],
      "metadata": {
        "id": "Oipqg859pT-L"
      },
      "execution_count": null,
      "outputs": []
    },
    {
      "cell_type": "code",
      "source": [
        "# train the model\n",
        "callbacks = [tf.keras.callbacks.ReduceLROnPlateau(patience=2, factor=0.1,min_delta=0.001,monitor='val_loss'),\n",
        "             tf.keras.callbacks.EarlyStopping(patience=5, min_delta=0.001, monitor='val_loss')]\n",
        "\n",
        "history = model.fit(\n",
        "    train_ds,\n",
        "    validation_data = val_ds,\n",
        "    epochs = 50,\n",
        "    callbacks = callbacks\n",
        ")"
      ],
      "metadata": {
        "colab": {
          "base_uri": "https://localhost:8080/"
        },
        "id": "87MSAmpspT70",
        "outputId": "021541a1-a69f-42d8-b2c7-092c09bb14cb"
      },
      "execution_count": null,
      "outputs": [
        {
          "output_type": "stream",
          "name": "stdout",
          "text": [
            "Epoch 1/50\n",
            "110/110 [==============================] - 47s 195ms/step - loss: 0.9538 - accuracy: 0.5378 - val_loss: 0.8670 - val_accuracy: 0.6382 - lr: 0.0010\n",
            "Epoch 2/50\n",
            "110/110 [==============================] - 19s 170ms/step - loss: 0.8254 - accuracy: 0.6104 - val_loss: 0.7751 - val_accuracy: 0.6693 - lr: 0.0010\n",
            "Epoch 3/50\n",
            "110/110 [==============================] - 19s 173ms/step - loss: 0.7862 - accuracy: 0.6339 - val_loss: 0.7086 - val_accuracy: 0.6991 - lr: 0.0010\n",
            "Epoch 4/50\n",
            "110/110 [==============================] - 20s 178ms/step - loss: 0.7770 - accuracy: 0.6403 - val_loss: 0.6524 - val_accuracy: 0.7218 - lr: 0.0010\n",
            "Epoch 5/50\n",
            "110/110 [==============================] - 20s 178ms/step - loss: 0.7547 - accuracy: 0.6467 - val_loss: 0.6496 - val_accuracy: 0.7075 - lr: 0.0010\n",
            "Epoch 6/50\n",
            "110/110 [==============================] - 19s 175ms/step - loss: 0.7385 - accuracy: 0.6602 - val_loss: 0.6250 - val_accuracy: 0.7230 - lr: 0.0010\n",
            "Epoch 7/50\n",
            "110/110 [==============================] - 19s 174ms/step - loss: 0.7347 - accuracy: 0.6678 - val_loss: 0.6018 - val_accuracy: 0.7510 - lr: 0.0010\n",
            "Epoch 8/50\n",
            "110/110 [==============================] - 19s 175ms/step - loss: 0.7304 - accuracy: 0.6611 - val_loss: 0.5981 - val_accuracy: 0.7367 - lr: 0.0010\n",
            "Epoch 9/50\n",
            "110/110 [==============================] - 19s 175ms/step - loss: 0.7091 - accuracy: 0.6794 - val_loss: 0.5777 - val_accuracy: 0.7421 - lr: 0.0010\n",
            "Epoch 10/50\n",
            "110/110 [==============================] - 19s 175ms/step - loss: 0.6987 - accuracy: 0.6804 - val_loss: 0.5675 - val_accuracy: 0.7343 - lr: 0.0010\n",
            "Epoch 11/50\n",
            "110/110 [==============================] - 19s 175ms/step - loss: 0.6958 - accuracy: 0.6828 - val_loss: 0.5829 - val_accuracy: 0.7325 - lr: 0.0010\n",
            "Epoch 12/50\n",
            "110/110 [==============================] - 19s 175ms/step - loss: 0.7010 - accuracy: 0.6827 - val_loss: 0.5846 - val_accuracy: 0.7331 - lr: 0.0010\n",
            "Epoch 13/50\n",
            "110/110 [==============================] - 19s 176ms/step - loss: 0.6807 - accuracy: 0.6930 - val_loss: 0.5338 - val_accuracy: 0.7719 - lr: 1.0000e-04\n",
            "Epoch 14/50\n",
            "110/110 [==============================] - 19s 175ms/step - loss: 0.6721 - accuracy: 0.6949 - val_loss: 0.5335 - val_accuracy: 0.7749 - lr: 1.0000e-04\n",
            "Epoch 15/50\n",
            "110/110 [==============================] - 19s 175ms/step - loss: 0.6643 - accuracy: 0.7067 - val_loss: 0.5282 - val_accuracy: 0.7851 - lr: 1.0000e-04\n",
            "Epoch 16/50\n",
            "110/110 [==============================] - 19s 175ms/step - loss: 0.6601 - accuracy: 0.7067 - val_loss: 0.5286 - val_accuracy: 0.7749 - lr: 1.0000e-04\n",
            "Epoch 17/50\n",
            "110/110 [==============================] - 19s 175ms/step - loss: 0.6622 - accuracy: 0.7010 - val_loss: 0.5247 - val_accuracy: 0.7803 - lr: 1.0000e-04\n",
            "Epoch 18/50\n",
            "110/110 [==============================] - 19s 175ms/step - loss: 0.6593 - accuracy: 0.7018 - val_loss: 0.5191 - val_accuracy: 0.7845 - lr: 1.0000e-04\n",
            "Epoch 19/50\n",
            "110/110 [==============================] - 19s 175ms/step - loss: 0.6592 - accuracy: 0.7014 - val_loss: 0.5278 - val_accuracy: 0.7719 - lr: 1.0000e-04\n",
            "Epoch 20/50\n",
            "110/110 [==============================] - 19s 175ms/step - loss: 0.6517 - accuracy: 0.7116 - val_loss: 0.5029 - val_accuracy: 0.7904 - lr: 1.0000e-04\n",
            "Epoch 21/50\n",
            "110/110 [==============================] - 19s 175ms/step - loss: 0.6526 - accuracy: 0.7105 - val_loss: 0.5034 - val_accuracy: 0.7940 - lr: 1.0000e-04\n",
            "Epoch 22/50\n",
            "110/110 [==============================] - 19s 175ms/step - loss: 0.6508 - accuracy: 0.7017 - val_loss: 0.4926 - val_accuracy: 0.7916 - lr: 1.0000e-04\n",
            "Epoch 23/50\n",
            "110/110 [==============================] - 19s 175ms/step - loss: 0.6442 - accuracy: 0.7169 - val_loss: 0.4963 - val_accuracy: 0.7881 - lr: 1.0000e-04\n",
            "Epoch 24/50\n",
            "110/110 [==============================] - 19s 175ms/step - loss: 0.6544 - accuracy: 0.7097 - val_loss: 0.5145 - val_accuracy: 0.7815 - lr: 1.0000e-04\n",
            "Epoch 25/50\n",
            "110/110 [==============================] - 19s 175ms/step - loss: 0.6318 - accuracy: 0.7203 - val_loss: 0.4996 - val_accuracy: 0.8048 - lr: 1.0000e-05\n",
            "Epoch 26/50\n",
            "110/110 [==============================] - 19s 176ms/step - loss: 0.6515 - accuracy: 0.7139 - val_loss: 0.4798 - val_accuracy: 0.8000 - lr: 1.0000e-05\n",
            "Epoch 27/50\n",
            "110/110 [==============================] - 19s 175ms/step - loss: 0.6337 - accuracy: 0.7209 - val_loss: 0.4917 - val_accuracy: 0.8036 - lr: 1.0000e-05\n",
            "Epoch 28/50\n",
            "110/110 [==============================] - 19s 175ms/step - loss: 0.6488 - accuracy: 0.7097 - val_loss: 0.5076 - val_accuracy: 0.7970 - lr: 1.0000e-05\n",
            "Epoch 29/50\n",
            "110/110 [==============================] - 19s 175ms/step - loss: 0.6461 - accuracy: 0.7139 - val_loss: 0.5091 - val_accuracy: 0.7767 - lr: 1.0000e-06\n",
            "Epoch 30/50\n",
            "110/110 [==============================] - 19s 175ms/step - loss: 0.6360 - accuracy: 0.7173 - val_loss: 0.4755 - val_accuracy: 0.8096 - lr: 1.0000e-06\n",
            "Epoch 31/50\n",
            "110/110 [==============================] - 19s 175ms/step - loss: 0.6330 - accuracy: 0.7168 - val_loss: 0.4868 - val_accuracy: 0.7994 - lr: 1.0000e-06\n",
            "Epoch 32/50\n",
            "110/110 [==============================] - 19s 175ms/step - loss: 0.6438 - accuracy: 0.7128 - val_loss: 0.5005 - val_accuracy: 0.7922 - lr: 1.0000e-06\n",
            "Epoch 33/50\n",
            "110/110 [==============================] - 19s 175ms/step - loss: 0.6451 - accuracy: 0.7087 - val_loss: 0.4888 - val_accuracy: 0.7958 - lr: 1.0000e-07\n",
            "Epoch 34/50\n",
            "110/110 [==============================] - 19s 175ms/step - loss: 0.6456 - accuracy: 0.7087 - val_loss: 0.4966 - val_accuracy: 0.8036 - lr: 1.0000e-07\n",
            "Epoch 35/50\n",
            "110/110 [==============================] - 19s 176ms/step - loss: 0.6458 - accuracy: 0.7108 - val_loss: 0.5042 - val_accuracy: 0.7976 - lr: 1.0000e-08\n"
          ]
        }
      ]
    },
    {
      "cell_type": "code",
      "source": [
        "model.save('/content/drive/My Drive/BertNewModel_1126_lessdata.h5')"
      ],
      "metadata": {
        "id": "LS6LAh2T9Xvu"
      },
      "execution_count": null,
      "outputs": []
    },
    {
      "cell_type": "code",
      "source": [
        "# plot the performance curve\n",
        "epochs = history.epoch\n",
        "plt.figure(figsize=(15, 6))\n",
        "\n",
        "# Accuracy\n",
        "plt.subplot(1,2, 1)\n",
        "plt.plot(epochs, history.history['accuracy'], label=\"Train\")\n",
        "plt.plot(epochs, history.history['val_accuracy'], label = \"Val\")\n",
        "plt.legend()\n",
        "plt.title(\"Accuracy\")\n",
        "\n",
        "# loss\n",
        "plt.subplot(1,2, 2)\n",
        "plt.plot(epochs, history.history['loss'], label=\"Train\")\n",
        "plt.plot(epochs, history.history['val_loss'], label = \"Val\")\n",
        "plt.legend()\n",
        "plt.title(\"Loss\")\n",
        "\n",
        "plt.show()"
      ],
      "metadata": {
        "colab": {
          "base_uri": "https://localhost:8080/",
          "height": 390
        },
        "id": "-EnUhSVDB_nu",
        "outputId": "ac616bf9-6f3e-4c9b-848d-64992956e636"
      },
      "execution_count": null,
      "outputs": [
        {
          "output_type": "display_data",
          "data": {
            "text/plain": [
              "<Figure size 1080x432 with 2 Axes>"
            ],
            "image/png": "[encoded data removed]"
          },
          "metadata": {
            "needs_background": "light"
          }
        }
      ]
    },
    {
      "cell_type": "code",
      "source": [
        "# evaluate on val data\n",
        "model.evaluate(val_ds)"
      ],
      "metadata": {
        "colab": {
          "base_uri": "https://localhost:8080/"
        },
        "id": "GgDvJsBQCFtB",
        "outputId": "2ec72b1a-6c62-40bc-a34c-de10fc2df69e"
      },
      "execution_count": null,
      "outputs": [
        {
          "output_type": "stream",
          "name": "stdout",
          "text": [
            "27/27 [==============================] - 4s 133ms/step - loss: 0.5002 - accuracy: 0.7887\n"
          ]
        },
        {
          "output_type": "execute_result",
          "data": {
            "text/plain": [
              "[0.5002018809318542, 0.7886567115783691]"
            ]
          },
          "metadata": {},
          "execution_count": 107
        }
      ]
    },
    {
      "cell_type": "code",
      "source": [],
      "metadata": {
        "id": "y1uVj06eCFrJ"
      },
      "execution_count": null,
      "outputs": []
    },
    {
      "cell_type": "code",
      "source": [],
      "metadata": {
        "id": "qcLovzFBCFo2"
      },
      "execution_count": null,
      "outputs": []
    },
    {
      "cell_type": "code",
      "source": [
        "from sklearn.preprocessing import LabelEncoder\n",
        "labelencoder = LabelEncoder()\n",
        "dfTest['labels'] = labelencoder.fit_transform(dfTest['labels'])\n",
        "dfTest['tweets'] = dfTest['tweets'].apply(preprocess)\n",
        "dfTest.head()"
      ],
      "metadata": {
        "colab": {
          "base_uri": "https://localhost:8080/",
          "height": 420
        },
        "id": "fUVpza-VCFmj",
        "outputId": "628de02d-0ffb-4354-c3aa-2ea70cbb176b"
      },
      "execution_count": null,
      "outputs": [
        {
          "output_type": "stream",
          "name": "stderr",
          "text": [
            "/usr/local/lib/python3.7/dist-packages/ipykernel_launcher.py:3: SettingWithCopyWarning: \n",
            "A value is trying to be set on a copy of a slice from a DataFrame.\n",
            "Try using .loc[row_indexer,col_indexer] = value instead\n",
            "\n",
            "See the caveats in the documentation: https://pandas.pydata.org/pandas-docs/stable/user_guide/indexing.html#returning-a-view-versus-a-copy\n",
            "  This is separate from the ipykernel package so we can avoid doing imports until\n",
            "/usr/local/lib/python3.7/dist-packages/ipykernel_launcher.py:4: SettingWithCopyWarning: \n",
            "A value is trying to be set on a copy of a slice from a DataFrame.\n",
            "Try using .loc[row_indexer,col_indexer] = value instead\n",
            "\n",
            "See the caveats in the documentation: https://pandas.pydata.org/pandas-docs/stable/user_guide/indexing.html#returning-a-view-versus-a-copy\n",
            "  after removing the cwd from sys.path.\n"
          ]
        },
        {
          "output_type": "execute_result",
          "data": {
            "text/plain": [
              "                                                 tweets  labels\n",
              "7843  thnx for the follow! the chronicles of jan sou...       2\n",
              "7844  hoping to look fit tomorrow on the jeremy kyle...       2\n",
              "7845  same. i wanna go football really early tomorro...       1\n",
              "7846  courtney!! do you know if that emotion scrapbo...       1\n",
              "7847  you may have a few extra followers from glasgo...       2"
            ],
            "text/html": [
              "\n",
              "  <div id=\"df-a5597eae-02a2-4635-9ff2-85657db84bd4\">\n",
              "    <div class=\"colab-df-container\">\n",
              "      <div>\n",
              "<style scoped>\n",
              "    .dataframe tbody tr th:only-of-type {\n",
              "        vertical-align: middle;\n",
              "    }\n",
              "\n",
              "    .dataframe tbody tr th {\n",
              "        vertical-align: top;\n",
              "    }\n",
              "\n",
              "    .dataframe thead th {\n",
              "        text-align: right;\n",
              "    }\n",
              "</style>\n",
              "<table border=\"1\" class=\"dataframe\">\n",
              "  <thead>\n",
              "    <tr style=\"text-align: right;\">\n",
              "      <th></th>\n",
              "      <th>tweets</th>\n",
              "      <th>labels</th>\n",
              "    </tr>\n",
              "  </thead>\n",
              "  <tbody>\n",
              "    <tr>\n",
              "      <th>7843</th>\n",
              "      <td>thnx for the follow! the chronicles of jan sou...</td>\n",
              "      <td>2</td>\n",
              "    </tr>\n",
              "    <tr>\n",
              "      <th>7844</th>\n",
              "      <td>hoping to look fit tomorrow on the jeremy kyle...</td>\n",
              "      <td>2</td>\n",
              "    </tr>\n",
              "    <tr>\n",
              "      <th>7845</th>\n",
              "      <td>same. i wanna go football really early tomorro...</td>\n",
              "      <td>1</td>\n",
              "    </tr>\n",
              "    <tr>\n",
              "      <th>7846</th>\n",
              "      <td>courtney!! do you know if that emotion scrapbo...</td>\n",
              "      <td>1</td>\n",
              "    </tr>\n",
              "    <tr>\n",
              "      <th>7847</th>\n",
              "      <td>you may have a few extra followers from glasgo...</td>\n",
              "      <td>2</td>\n",
              "    </tr>\n",
              "  </tbody>\n",
              "</table>\n",
              "</div>\n",
              "      <button class=\"colab-df-convert\" onclick=\"convertToInteractive('df-a5597eae-02a2-4635-9ff2-85657db84bd4')\"\n",
              "              title=\"Convert this dataframe to an interactive table.\"\n",
              "              style=\"display:none;\">\n",
              "        \n",
              "  <svg xmlns=\"http://www.w3.org/2000/svg\" height=\"24px\"viewBox=\"0 0 24 24\"\n",
              "       width=\"24px\">\n",
              "    <path d=\"M0 0h24v24H0V0z\" fill=\"none\"/>\n",
              "    <path d=\"M18.56 5.44l.94 2.06.94-2.06 2.06-.94-2.06-.94-.94-2.06-.94 2.06-2.06.94zm-11 1L8.5 8.5l.94-2.06 2.06-.94-2.06-.94L8.5 2.5l-.94 2.06-2.06.94zm10 10l.94 2.06.94-2.06 2.06-.94-2.06-.94-.94-2.06-.94 2.06-2.06.94z\"/><path d=\"M17.41 7.96l-1.37-1.37c-.4-.4-.92-.59-1.43-.59-.52 0-1.04.2-1.43.59L10.3 9.45l-7.72 7.72c-.78.78-.78 2.05 0 2.83L4 21.41c.39.39.9.59 1.41.59.51 0 1.02-.2 1.41-.59l7.78-7.78 2.81-2.81c.8-.78.8-2.07 0-2.86zM5.41 20L4 18.59l7.72-7.72 1.47 1.35L5.41 20z\"/>\n",
              "  </svg>\n",
              "      </button>\n",
              "      \n",
              "  <style>\n",
              "    .colab-df-container {\n",
              "      display:flex;\n",
              "      flex-wrap:wrap;\n",
              "      gap: 12px;\n",
              "    }\n",
              "\n",
              "    .colab-df-convert {\n",
              "      background-color: #E8F0FE;\n",
              "      border: none;\n",
              "      border-radius: 50%;\n",
              "      cursor: pointer;\n",
              "      display: none;\n",
              "      fill: #1967D2;\n",
              "      height: 32px;\n",
              "      padding: 0 0 0 0;\n",
              "      width: 32px;\n",
              "    }\n",
              "\n",
              "    .colab-df-convert:hover {\n",
              "      background-color: #E2EBFA;\n",
              "      box-shadow: 0px 1px 2px rgba(60, 64, 67, 0.3), 0px 1px 3px 1px rgba(60, 64, 67, 0.15);\n",
              "      fill: #174EA6;\n",
              "    }\n",
              "\n",
              "    [theme=dark] .colab-df-convert {\n",
              "      background-color: #3B4455;\n",
              "      fill: #D2E3FC;\n",
              "    }\n",
              "\n",
              "    [theme=dark] .colab-df-convert:hover {\n",
              "      background-color: #434B5C;\n",
              "      box-shadow: 0px 1px 3px 1px rgba(0, 0, 0, 0.15);\n",
              "      filter: drop-shadow(0px 1px 2px rgba(0, 0, 0, 0.3));\n",
              "      fill: #FFFFFF;\n",
              "    }\n",
              "  </style>\n",
              "\n",
              "      <script>\n",
              "        const buttonEl =\n",
              "          document.querySelector('#df-a5597eae-02a2-4635-9ff2-85657db84bd4 button.colab-df-convert');\n",
              "        buttonEl.style.display =\n",
              "          google.colab.kernel.accessAllowed ? 'block' : 'none';\n",
              "\n",
              "        async function convertToInteractive(key) {\n",
              "          const element = document.querySelector('#df-a5597eae-02a2-4635-9ff2-85657db84bd4');\n",
              "          const dataTable =\n",
              "            await google.colab.kernel.invokeFunction('convertToInteractive',\n",
              "                                                     [key], {});\n",
              "          if (!dataTable) return;\n",
              "\n",
              "          const docLinkHtml = 'Like what you see? Visit the ' +\n",
              "            '<a target=\"_blank\" href=https://colab.research.google.com/notebooks/data_table.ipynb>data table notebook</a>'\n",
              "            + ' to learn more about interactive tables.';\n",
              "          element.innerHTML = '';\n",
              "          dataTable['output_type'] = 'display_data';\n",
              "          await google.colab.output.renderOutput(dataTable, element);\n",
              "          const docLink = document.createElement('div');\n",
              "          docLink.innerHTML = docLinkHtml;\n",
              "          element.appendChild(docLink);\n",
              "        }\n",
              "      </script>\n",
              "    </div>\n",
              "  </div>\n",
              "  "
            ]
          },
          "metadata": {},
          "execution_count": 108
        }
      ]
    },
    {
      "cell_type": "code",
      "source": [
        "# encoding the test data\n",
        "test_encoded_inputs = tokenizer(dfTest['tweets'].tolist(),\n",
        "                                 add_special_tokens = True,\n",
        "                                 padding='max_length', \n",
        "                                 truncation=True, \n",
        "                                 max_length=30, \n",
        "                                 return_token_type_ids=False,\n",
        "                                 return_tensors = 'tf')"
      ],
      "metadata": {
        "id": "yF1gQzABCFkP"
      },
      "execution_count": null,
      "outputs": []
    },
    {
      "cell_type": "code",
      "source": [
        "test_dataset = tf.data.Dataset.from_tensor_slices(dict(test_encoded_inputs))"
      ],
      "metadata": {
        "id": "vSYZ9iK2Doea"
      },
      "execution_count": null,
      "outputs": []
    },
    {
      "cell_type": "code",
      "source": [
        "test_ds = test_dataset.batch(64)\n",
        "test_pred = model.predict(test_ds)\n",
        "test_pred"
      ],
      "metadata": {
        "colab": {
          "base_uri": "https://localhost:8080/"
        },
        "id": "CEqEzpKtDocF",
        "outputId": "b87ed523-bc1a-4f13-f0c3-f4babd47dd9a"
      },
      "execution_count": null,
      "outputs": [
        {
          "output_type": "stream",
          "name": "stdout",
          "text": [
            "14/14 [==============================] - 5s 136ms/step\n"
          ]
        },
        {
          "output_type": "execute_result",
          "data": {
            "text/plain": [
              "array([[0.00330238, 0.0095392 , 0.9871585 ],\n",
              "       [0.0019395 , 0.31469434, 0.6833662 ],\n",
              "       [0.07684579, 0.383379  , 0.53977513],\n",
              "       ...,\n",
              "       [0.00570789, 0.8938599 , 0.10043223],\n",
              "       [0.05720376, 0.72095084, 0.22184536],\n",
              "       [0.73496413, 0.21329662, 0.05173925]], dtype=float32)"
            ]
          },
          "metadata": {},
          "execution_count": 111
        }
      ]
    },
    {
      "cell_type": "code",
      "source": [
        "test_pred_flatten = np.argmax(test_pred, axis = 1)\n",
        "print(dfTest['labels'].values.shape)"
      ],
      "metadata": {
        "colab": {
          "base_uri": "https://localhost:8080/"
        },
        "id": "895sqS3ZDoYw",
        "outputId": "d866d193-9e84-43aa-e76b-429ce8bce792"
      },
      "execution_count": null,
      "outputs": [
        {
          "output_type": "stream",
          "name": "stdout",
          "text": [
            "(872,)\n"
          ]
        }
      ]
    },
    {
      "cell_type": "code",
      "source": [
        "from sklearn.metrics import confusion_matrix, f1_score\n",
        "confusion_matrix(dfTest['labels'].values, test_pred_flatten)"
      ],
      "metadata": {
        "colab": {
          "base_uri": "https://localhost:8080/"
        },
        "id": "N67MUv4JDoW6",
        "outputId": "07558814-fdc9-462e-9a99-24da227a75a8"
      },
      "execution_count": null,
      "outputs": [
        {
          "output_type": "execute_result",
          "data": {
            "text/plain": [
              "array([[ 99,  28,  15],\n",
              "       [ 11, 334,  46],\n",
              "       [  9,  75, 255]])"
            ]
          },
          "metadata": {},
          "execution_count": 113
        }
      ]
    },
    {
      "cell_type": "code",
      "source": [
        "print(accuracy_score(dfTest['labels'].values, test_pred_flatten))"
      ],
      "metadata": {
        "colab": {
          "base_uri": "https://localhost:8080/"
        },
        "id": "rT4GQ_A1DoUg",
        "outputId": "f4c9562b-25b2-4854-e86a-320f7029173a"
      },
      "execution_count": null,
      "outputs": [
        {
          "output_type": "stream",
          "name": "stdout",
          "text": [
            "0.7889908256880734\n"
          ]
        }
      ]
    },
    {
      "cell_type": "code",
      "source": [
        "print(f1_score(dfTest['labels'].values, test_pred_flatten, average='weighted'))\n",
        "print(accuracy_score(dfTest['labels'].values, test_pred_flatten))\n",
        "print(precision_score(dfTest['labels'].values, test_pred_flatten, average=\"weighted\"))\n",
        "print(recall_score(dfTest['labels'].values, test_pred_flatten, average=\"weighted\"))"
      ],
      "metadata": {
        "colab": {
          "base_uri": "https://localhost:8080/"
        },
        "id": "P6zPDJZADoSO",
        "outputId": "f84f534d-c335-4732-c2f2-6de7ec673f34"
      },
      "execution_count": null,
      "outputs": [
        {
          "output_type": "stream",
          "name": "stdout",
          "text": [
            "0.7879848404228914\n",
            "0.7889908256880734\n",
            "0.7918998688382443\n",
            "0.7889908256880734\n"
          ]
        }
      ]
    },
    {
      "cell_type": "code",
      "source": [
        "from sklearn.metrics import confusion_matrix\n",
        "import seaborn as sns\n",
        "\n",
        "target_names = ['negative', 'neutral', 'positive']\n",
        "cm = confusion_matrix(dfTest['labels'].values, test_pred_flatten)\n",
        "# Normalise\n",
        "cmn = cm.astype('float') / cm.sum(axis=1)[:, np.newaxis]\n",
        "fig, ax = plt.subplots(figsize=(10,10))\n",
        "sns.heatmap(cmn, annot=True, fmt='.2f', xticklabels=target_names, yticklabels=target_names)\n",
        "plt.ylabel('Actual')\n",
        "plt.xlabel('Predicted')\n",
        "plt.show(block=False)"
      ],
      "metadata": {
        "colab": {
          "base_uri": "https://localhost:8080/",
          "height": 606
        },
        "id": "F_5dD04GXV4O",
        "outputId": "abc6b9d0-7492-4ae9-8a06-ab20e9cbbc5d"
      },
      "execution_count": null,
      "outputs": [
        {
          "output_type": "display_data",
          "data": {
            "text/plain": [
              "<Figure size 720x720 with 2 Axes>"
            ],
            "image/png": "[encoded data removed]"
          },
          "metadata": {
            "needs_background": "light"
          }
        }
      ]
    },
    {
      "cell_type": "code",
      "source": [
        "y_pred_original = labelencoder.inverse_transform(test_pred_flatten)\n",
        "print(y_pred_original, test_pred_flatten)\n"
      ],
      "metadata": {
        "id": "9cA8r7k9dUWz"
      },
      "execution_count": null,
      "outputs": []
    },
    {
      "cell_type": "code",
      "source": [
        "np.save('/content/drive/My Drive/BERT_label_encoder_classes.npy', labelencoder.classes_)"
      ],
      "metadata": {
        "id": "0KHkVqq9jxky"
      },
      "execution_count": null,
      "outputs": []
    },
    {
      "cell_type": "code",
      "source": [],
      "metadata": {
        "id": "NS3a51STjxh-"
      },
      "execution_count": null,
      "outputs": []
    },
    {
      "cell_type": "code",
      "source": [
        "from tensorflow import keras\n",
        "modelLoaded = keras.models.load_model('/content/drive/My Drive/BertNewModel_1126_lessdata.h5' ,custom_objects={'TFBertModel':bert})"
      ],
      "metadata": {
        "colab": {
          "base_uri": "https://localhost:8080/"
        },
        "id": "IH6uyAqijxfo",
        "outputId": "a380a8c6-1ebb-4f0b-f041-14ee04dadf2a"
      },
      "execution_count": null,
      "outputs": [
        {
          "output_type": "stream",
          "name": "stderr",
          "text": [
            "WARNING:tensorflow:Error in loading the saved optimizer state. As a result, your model is starting with a freshly initialized optimizer.\n"
          ]
        }
      ]
    },
    {
      "cell_type": "code",
      "source": [],
      "metadata": {
        "id": "-9s5tjzajxdm"
      },
      "execution_count": null,
      "outputs": []
    },
    {
      "cell_type": "code",
      "source": [
        "test_pred_loaded_model = modelLoaded.predict(test_ds)\n",
        "test_pred_loaded_model_flatten = np.argmax(test_pred_loaded_model, axis = 1)"
      ],
      "metadata": {
        "colab": {
          "base_uri": "https://localhost:8080/"
        },
        "id": "l-WzcCvfjxbX",
        "outputId": "27624e3e-eaca-44f2-e986-4fac9e6128ca"
      },
      "execution_count": null,
      "outputs": [
        {
          "output_type": "stream",
          "name": "stdout",
          "text": [
            "14/14 [==============================] - 2s 129ms/step\n"
          ]
        }
      ]
    },
    {
      "cell_type": "code",
      "source": [
        "print(f1_score(dfTest['labels'].values, test_pred_loaded_model_flatten, average='weighted'))"
      ],
      "metadata": {
        "colab": {
          "base_uri": "https://localhost:8080/"
        },
        "id": "Wpn6zR0sjxY5",
        "outputId": "0ca65d7e-8b04-415b-92c5-0658e4513fe3"
      },
      "execution_count": null,
      "outputs": [
        {
          "output_type": "stream",
          "name": "stdout",
          "text": [
            "0.7879848404228914\n"
          ]
        }
      ]
    },
    {
      "cell_type": "code",
      "source": [],
      "metadata": {
        "id": "fgoyr-mavxyy"
      },
      "execution_count": null,
      "outputs": []
    }
  ]
}